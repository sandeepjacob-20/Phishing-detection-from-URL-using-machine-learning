{
  "cells": [
    {
      "attachments": {},
      "cell_type": "markdown",
      "metadata": {},
      "source": [
        "This notebook extracts the features of the legitimate URLs in the legitimate.csv file. The extracted features are then stored in the legitimate_extracted.csv file. "
      ]
    },
    {
      "cell_type": "code",
      "execution_count": null,
      "metadata": {
        "id": "k0RYFzlFQ_kc"
      },
      "outputs": [],
      "source": [
        "import pandas as pd"
      ]
    },
    {
      "cell_type": "code",
      "execution_count": null,
      "metadata": {
        "id": "hl4Uz_NuQ_ke"
      },
      "outputs": [],
      "source": [
        "# importing required packages for this section\n",
        "from urllib.parse import urlparse, urlencode\n",
        "import ipaddress\n",
        "import re\n",
        "import requests"
      ]
    },
    {
      "cell_type": "code",
      "execution_count": null,
      "metadata": {
        "colab": {
          "base_uri": "https://localhost:8080/"
        },
        "id": "umsa3acwQ_kf",
        "outputId": "88e3880c-af48-4b2b-a880-45637e1623a1"
      },
      "outputs": [
        {
          "name": "stdout",
          "output_type": "stream",
          "text": [
            "Looking in indexes: https://pypi.org/simple, https://us-python.pkg.dev/colab-wheels/public/simple/\n",
            "Collecting python-whois\n",
            "  Downloading python-whois-0.8.0.tar.gz (109 kB)\n",
            "\u001b[?25l     \u001b[90m━━━━━━━━━━━━━━━━━━━━━━━━━━━━━━━━━━━━━━━━\u001b[0m \u001b[32m0.0/109.6 KB\u001b[0m \u001b[31m?\u001b[0m eta \u001b[36m-:--:--\u001b[0m\r\u001b[2K     \u001b[90m━━━━━━━━━━━━━━━━━━━━━━━━━━━━━━━━━━━━━━━\u001b[0m \u001b[32m109.6/109.6 KB\u001b[0m \u001b[31m4.6 MB/s\u001b[0m eta \u001b[36m0:00:00\u001b[0m\n",
            "\u001b[?25h  Preparing metadata (setup.py) ... \u001b[?25l\u001b[?25hdone\n",
            "Requirement already satisfied: future in /usr/local/lib/python3.8/dist-packages (from python-whois) (0.16.0)\n",
            "Building wheels for collected packages: python-whois\n",
            "  Building wheel for python-whois (setup.py) ... \u001b[?25l\u001b[?25hdone\n",
            "  Created wheel for python-whois: filename=python_whois-0.8.0-py3-none-any.whl size=103262 sha256=51c1883228ecad1a91d2fc0fe5ab70f52f767e40287648d25b7e452023c5645f\n",
            "  Stored in directory: /root/.cache/pip/wheels/24/20/6b/5550a3d6bef09ddaed74eb84006fc3d53f94867f1916794df4\n",
            "Successfully built python-whois\n",
            "Installing collected packages: python-whois\n",
            "Successfully installed python-whois-0.8.0\n"
          ]
        }
      ],
      "source": [
        "%pip install python-whois\n"
      ]
    },
    {
      "cell_type": "code",
      "execution_count": null,
      "metadata": {
        "id": "zeE0w_QVQ_kh"
      },
      "outputs": [],
      "source": [
        "import re\n",
        "from bs4 import BeautifulSoup\n",
        "import whois\n",
        "import urllib\n",
        "import urllib.request\n",
        "from datetime import datetime"
      ]
    },
    {
      "cell_type": "markdown",
      "metadata": {
        "id": "WrsQ-mLdQ_ki"
      },
      "source": [
        "Domain Name Finder"
      ]
    },
    {
      "cell_type": "code",
      "execution_count": null,
      "metadata": {
        "id": "U5qj0fwQQ_kt"
      },
      "outputs": [],
      "source": [
        "def getDomain(url):\n",
        "  domain = urlparse(url).netloc\n",
        "  if re.match(r\"^www.\", domain):\n",
        "      domain = domain.replace(\"www.\", \"\")\n",
        "  return domain"
      ]
    },
    {
      "cell_type": "markdown",
      "metadata": {
        "id": "erP1lpl1Q_ku"
      },
      "source": [
        "1.Presence of Special Symbols"
      ]
    },
    {
      "cell_type": "code",
      "execution_count": null,
      "metadata": {
        "id": "ugQF8c64Q_ku"
      },
      "outputs": [],
      "source": [
        "def special_symbols(url):\n",
        "    if '@' in url:\n",
        "        return 1\n",
        "    else:\n",
        "        return 0"
      ]
    },
    {
      "cell_type": "markdown",
      "metadata": {
        "id": "PCaF9I22Q_kv"
      },
      "source": [
        "2.Presence of sub-domains"
      ]
    },
    {
      "cell_type": "code",
      "execution_count": null,
      "metadata": {
        "id": "a3t5TrWJQ_kv"
      },
      "outputs": [],
      "source": [
        "def check_subdomain(url):\n",
        "    count = 0\n",
        "    for i in url:\n",
        "        if i == '.':\n",
        "            count+=1\n",
        "    if count<=3:\n",
        "        return 0\n",
        "    else:\n",
        "        return 1\n"
      ]
    },
    {
      "cell_type": "markdown",
      "metadata": {
        "id": "GUll6ez1Q_kw"
      },
      "source": [
        "3.looking for '-' in domain"
      ]
    },
    {
      "cell_type": "code",
      "execution_count": null,
      "metadata": {
        "id": "K0bftOIxQ_kw"
      },
      "outputs": [],
      "source": [
        "def prefixSuffix(url):\n",
        "    domain = urlparse(url).netloc\n",
        "    if '-' in domain or '_' in domain:\n",
        "        return 1            # phishing\n",
        "    else:\n",
        "        return 0\n"
      ]
    },
    {
      "cell_type": "markdown",
      "metadata": {
        "id": "_1LFYpuIQ_kx"
      },
      "source": [
        "4.Using IP instead of URL"
      ]
    },
    {
      "cell_type": "code",
      "execution_count": null,
      "metadata": {
        "id": "rGR1SKOVQ_kx"
      },
      "outputs": [],
      "source": [
        "def havingIP(url):\n",
        "    try:\n",
        "        ipaddress.ip_address(url)\n",
        "        ip = 1\n",
        "    except:\n",
        "        ip=0\n",
        "    return ip"
      ]
    },
    {
      "cell_type": "markdown",
      "metadata": {
        "id": "XW2VH26XQ_kx"
      },
      "source": [
        "5.Depth of URL"
      ]
    },
    {
      "cell_type": "code",
      "execution_count": null,
      "metadata": {
        "id": "Cvm7D8GSQ_kx"
      },
      "outputs": [],
      "source": [
        "def getDepth(url):\n",
        "  s = urlparse(url).path.split('/')\n",
        "  depth = 0\n",
        "  for j in range(len(s)):\n",
        "    if len(s[j]) != 0:\n",
        "      depth = depth+1\n",
        "  return depth\n"
      ]
    },
    {
      "cell_type": "markdown",
      "metadata": {
        "id": "HThj3xxYQ_ky"
      },
      "source": [
        "6.Redirections in URL"
      ]
    },
    {
      "cell_type": "code",
      "execution_count": null,
      "metadata": {
        "id": "wVVmy0sNQ_ky"
      },
      "outputs": [],
      "source": [
        "def redirect(url):\n",
        "    pos = url.rfind(\"//\")\n",
        "    if pos>7:\n",
        "        return 1\n",
        "    else:\n",
        "        return 0\n"
      ]
    },
    {
      "cell_type": "markdown",
      "metadata": {
        "id": "s9baRe0jQ_ky"
      },
      "source": [
        "7.URL shortening services"
      ]
    },
    {
      "cell_type": "code",
      "execution_count": null,
      "metadata": {
        "id": "XsDtxtASQ_kz"
      },
      "outputs": [],
      "source": [
        "#listing shortening services\n",
        "shortening_services = r\"bit\\.ly|goo\\.gl|shorte\\.st|go2l\\.ink|x\\.co|ow\\.ly|t\\.co|tinyurl|tr\\.im|is\\.gd|cli\\.gs|\" \\\n",
        "                      r\"yfrog\\.com|migre\\.me|ff\\.im|tiny\\.cc|url4\\.eu|twit\\.ac|su\\.pr|twurl\\.nl|snipurl\\.com|\" \\\n",
        "                      r\"short\\.to|BudURL\\.com|ping\\.fm|post\\.ly|Just\\.as|bkite\\.com|snipr\\.com|fic\\.kr|loopt\\.us|\" \\\n",
        "                      r\"doiop\\.com|short\\.ie|kl\\.am|wp\\.me|rubyurl\\.com|om\\.ly|to\\.ly|bit\\.do|t\\.co|lnkd\\.in|db\\.tt|\" \\\n",
        "                      r\"qr\\.ae|adf\\.ly|goo\\.gl|bitly\\.com|cur\\.lv|tinyurl\\.com|ow\\.ly|bit\\.ly|ity\\.im|q\\.gs|is\\.gd|\" \\\n",
        "                      r\"po\\.st|bc\\.vc|twitthis\\.com|u\\.to|j\\.mp|buzurl\\.com|cutt\\.us|u\\.bb|yourls\\.org|x\\.co|\" \\\n",
        "                      r\"prettylinkpro\\.com|scrnch\\.me|filoops\\.info|vzturl\\.com|qr\\.net|1url\\.com|tweez\\.me|v\\.gd|\" \\\n",
        "                      r\"tr\\.im|link\\.zip\\.net\"\n"
      ]
    },
    {
      "cell_type": "code",
      "execution_count": null,
      "metadata": {
        "id": "jdOYOBVaQ_kz"
      },
      "outputs": [],
      "source": [
        "def tinyURL(url):\n",
        "    match = re.search(shortening_services, url)\n",
        "    if match:\n",
        "        return 1\n",
        "    else:\n",
        "        return 0"
      ]
    },
    {
      "cell_type": "markdown",
      "metadata": {
        "id": "DF1QMV1_Q_k0"
      },
      "source": [
        "8.Number of digits in URL"
      ]
    },
    {
      "cell_type": "code",
      "execution_count": null,
      "metadata": {
        "id": "4U8BqTSiQ_k0"
      },
      "outputs": [],
      "source": [
        "def DigitCount(url):\n",
        "  count=0\n",
        "  for i in url:\n",
        "    if i.isdigit():\n",
        "      count+=1\n",
        "  return count"
      ]
    },
    {
      "cell_type": "markdown",
      "metadata": {
        "id": "MRPJqZ_TQ_k1"
      },
      "source": [
        "9.Web Traffic"
      ]
    },
    {
      "cell_type": "code",
      "execution_count": null,
      "metadata": {
        "id": "HrAGlb7kQ_k1"
      },
      "outputs": [],
      "source": [
        "def web_traffic(url_in):\n",
        "  try:\n",
        "    if 'http' not in url_in and 'https' not in url_in:\n",
        "      url_in='http://'+url_in\n",
        "\n",
        "    domain_name = whois.whois(urlparse(url_in).netloc).domain_name\n",
        "    if(type(domain_name) is list ):\n",
        "      domain_name=domain_name[1].lower()\n",
        "    if domain_name.isupper():\n",
        "      domain_name=domain_name.lower()\n",
        "    r = requests.get('https://siterankdata.com/'+domain_name)\n",
        "    soup = BeautifulSoup(r.text,'html.parser')\n",
        "    res = str(soup.find_all('meta')[3])\n",
        "\n",
        "    a = res.split()[7].split('.')[0]\n",
        "    rank=int(a)\n",
        "  except:\n",
        "      return 1\n",
        "  if rank > 1000000:\n",
        "    return 1\n",
        "  else:\n",
        "    return 0\n"
      ]
    },
    {
      "cell_type": "markdown",
      "metadata": {
        "id": "r5dinRmbQ_k3"
      },
      "source": [
        "10.Domain age"
      ]
    },
    {
      "cell_type": "code",
      "execution_count": null,
      "metadata": {
        "id": "9lau4Xz0Q_k4"
      },
      "outputs": [],
      "source": [
        "def domainAge(domain_name):\n",
        "  creation_date = domain_name.creation_date\n",
        "  expiration_date = domain_name.expiration_date\n",
        "  if (isinstance(creation_date, str) or isinstance(expiration_date, str)):\n",
        "    try:\n",
        "      creation_date = datetime.strptime(creation_date, \"%Y-%m-%d\")\n",
        "      expiration_date = datetime.strptime(expiration_date, \"%Y-%m-%d\")\n",
        "    except:\n",
        "      return 1\n",
        "  if ((expiration_date is None) or (creation_date is None)):\n",
        "      return 1\n",
        "  elif ((type(expiration_date) is list) or (type(creation_date) is list)):\n",
        "    try:\n",
        "      ageofdomain = abs((expiration_date[0]-creation_date[0]).days)\n",
        "    except:\n",
        "      return 1\n",
        "  else:\n",
        "    ageofdomain = abs((expiration_date - creation_date).days)\n",
        "  if ((ageofdomain/30) < 6):\n",
        "    age = 1\n",
        "  else:\n",
        "    age = 0\n",
        "  return age\n"
      ]
    },
    {
      "cell_type": "markdown",
      "metadata": {
        "id": "4TiRdYN9Q_k4"
      },
      "source": [
        "Processing the URL's"
      ]
    },
    {
      "cell_type": "code",
      "execution_count": null,
      "metadata": {
        "id": "iVatMmYeQ_k5"
      },
      "outputs": [],
      "source": [
        "#Function to extract features\n",
        "def featureExtraction(url,label):\n",
        "  if 'http' not in url and 'https' not in url:\n",
        "    url='http://'+url\n",
        "  v = web_traffic(url)\n",
        "  dns = 0\n",
        "  try:\n",
        "    domain_name = whois.whois(urlparse(url).netloc)\n",
        "  except:\n",
        "    dns = 1\n",
        "  \n",
        "  features = []\n",
        "  #Address bar based features (11)\n",
        "  features.append(getDomain(url)) \n",
        "  features.append(v)\n",
        "  features.append(special_symbols(url))\n",
        "  features.append(check_subdomain(url))\n",
        "  features.append(prefixSuffix(url))\n",
        "  features.append(havingIP(url))\n",
        "  features.append(getDepth(url))\n",
        "  features.append(redirect(url))\n",
        "  features.append(tinyURL(url))\n",
        "  features.append(DigitCount(url))\n",
        "  features.append(1 if dns == 1 else domainAge(domain_name))\n",
        "  features.append(label)\n",
        "  \n",
        "  return features"
      ]
    },
    {
      "cell_type": "markdown",
      "metadata": {
        "id": "vsM23PHDQ_k5"
      },
      "source": [
        "Legit URLS"
      ]
    },
    {
      "cell_type": "code",
      "execution_count": 18,
      "metadata": {
        "colab": {
          "base_uri": "https://localhost:8080/"
        },
        "id": "8QQIQwduQ_k5",
        "outputId": "7beca53d-2953-400e-ceb0-23b41430c260"
      },
      "outputs": [
        {
          "name": "stdout",
          "output_type": "stream",
          "text": [
            "4862\n",
            "4863\n",
            "4864\n",
            "4865\n",
            "4866\n",
            "4867\n",
            "4868\n",
            "4869\n",
            "4870\n",
            "4871\n",
            "4872\n",
            "4873\n",
            "4874\n",
            "Error trying to connect to socket: closing socket - [Errno -2] Name or service not known\n",
            "Error trying to connect to socket: closing socket - [Errno -2] Name or service not known\n",
            "4875\n",
            "4876\n",
            "4877\n",
            "4878\n",
            "4879\n",
            "4880\n",
            "4881\n",
            "4882\n",
            "4883\n",
            "4884\n",
            "4885\n",
            "4886\n",
            "4887\n",
            "4888\n",
            "4889\n",
            "4890\n",
            "4891\n",
            "4892\n",
            "4893\n",
            "4894\n",
            "4895\n",
            "4896\n",
            "4897\n",
            "4898\n",
            "4899\n",
            "4900\n",
            "4901\n",
            "4902\n",
            "4903\n",
            "4904\n",
            "4905\n",
            "4906\n",
            "4907\n",
            "4908\n",
            "4909\n",
            "4910\n",
            "4911\n",
            "4912\n",
            "4913\n",
            "4914\n",
            "4915\n",
            "4916\n",
            "4917\n",
            "4918\n",
            "4919\n",
            "4920\n",
            "4921\n",
            "4922\n",
            "4923\n",
            "4924\n",
            "4925\n",
            "4926\n",
            "4927\n",
            "4928\n",
            "4929\n",
            "4930\n",
            "4931\n",
            "4932\n",
            "4933\n",
            "4934\n",
            "4935\n",
            "4936\n",
            "4937\n",
            "4938\n",
            "4939\n",
            "4940\n",
            "4941\n",
            "4942\n",
            "4943\n",
            "4944\n",
            "4945\n",
            "4946\n",
            "4947\n",
            "4948\n",
            "4949\n",
            "4950\n",
            "4951\n",
            "4952\n",
            "4953\n",
            "4954\n",
            "4955\n",
            "4956\n",
            "4957\n",
            "4958\n",
            "4959\n",
            "4960\n",
            "4961\n",
            "4962\n",
            "4963\n",
            "4964\n",
            "4965\n",
            "4966\n",
            "4967\n",
            "4968\n",
            "4969\n",
            "4970\n",
            "4971\n",
            "4972\n",
            "4973\n",
            "4974\n",
            "4975\n",
            "4976\n",
            "4977\n",
            "4978\n",
            "4979\n",
            "4980\n",
            "4982\n",
            "4983\n",
            "4984\n",
            "Error trying to connect to socket: closing socket - timed out\n",
            "4985\n",
            "4986\n",
            "4987\n",
            "4988\n",
            "4989\n",
            "4990\n",
            "4991\n",
            "4992\n",
            "4993\n",
            "4994\n",
            "4995\n",
            "4996\n",
            "4997\n",
            "4998\n",
            "4999\n"
          ]
        }
      ],
      "source": [
        "#Extracting the feautres & storing them in a list\n",
        "legiurl = pd.read_csv('legitimate.csv')\n",
        "legi_features = []\n",
        "label = 0\n",
        "\n",
        "for i in range(0,10000):\n",
        "  url = legiurl['url'][i]\n",
        "  legi_features.append(featureExtraction(url, label))"
      ]
    },
    {
      "cell_type": "code",
      "execution_count": 19,
      "metadata": {
        "colab": {
          "base_uri": "https://localhost:8080/"
        },
        "id": "oDhn1FgrQ_k6",
        "outputId": "6b7a8763-2508-4baf-e2d7-cadc9b1dc188"
      },
      "outputs": [
        {
          "data": {
            "text/html": [
              "\n",
              "  <div id=\"df-d526351a-19bd-468d-97f5-73718048aa14\">\n",
              "    <div class=\"colab-df-container\">\n",
              "      <div>\n",
              "<style scoped>\n",
              "    .dataframe tbody tr th:only-of-type {\n",
              "        vertical-align: middle;\n",
              "    }\n",
              "\n",
              "    .dataframe tbody tr th {\n",
              "        vertical-align: top;\n",
              "    }\n",
              "\n",
              "    .dataframe thead th {\n",
              "        text-align: right;\n",
              "    }\n",
              "</style>\n",
              "<table border=\"1\" class=\"dataframe\">\n",
              "  <thead>\n",
              "    <tr style=\"text-align: right;\">\n",
              "      <th></th>\n",
              "      <th>Domain</th>\n",
              "      <th>Web_Traffic</th>\n",
              "      <th>Have_At</th>\n",
              "      <th>SubDomain</th>\n",
              "      <th>Prefix/Suffix</th>\n",
              "      <th>Have_IP</th>\n",
              "      <th>URL_Depth</th>\n",
              "      <th>Redirection</th>\n",
              "      <th>TinyURL</th>\n",
              "      <th>Digit_count</th>\n",
              "      <th>Domain_Age</th>\n",
              "      <th>Label</th>\n",
              "    </tr>\n",
              "  </thead>\n",
              "  <tbody>\n",
              "    <tr>\n",
              "      <th>0</th>\n",
              "      <td>en.turkeyforfriends.com</td>\n",
              "      <td>0</td>\n",
              "      <td>0</td>\n",
              "      <td>0</td>\n",
              "      <td>0</td>\n",
              "      <td>0</td>\n",
              "      <td>2</td>\n",
              "      <td>0</td>\n",
              "      <td>0</td>\n",
              "      <td>6</td>\n",
              "      <td>0</td>\n",
              "      <td>0</td>\n",
              "    </tr>\n",
              "    <tr>\n",
              "      <th>1</th>\n",
              "      <td>blogs.indiewire.com</td>\n",
              "      <td>0</td>\n",
              "      <td>0</td>\n",
              "      <td>0</td>\n",
              "      <td>0</td>\n",
              "      <td>0</td>\n",
              "      <td>3</td>\n",
              "      <td>0</td>\n",
              "      <td>0</td>\n",
              "      <td>0</td>\n",
              "      <td>0</td>\n",
              "      <td>0</td>\n",
              "    </tr>\n",
              "    <tr>\n",
              "      <th>2</th>\n",
              "      <td>absoluteastronomy.com</td>\n",
              "      <td>0</td>\n",
              "      <td>0</td>\n",
              "      <td>0</td>\n",
              "      <td>0</td>\n",
              "      <td>0</td>\n",
              "      <td>2</td>\n",
              "      <td>0</td>\n",
              "      <td>0</td>\n",
              "      <td>0</td>\n",
              "      <td>0</td>\n",
              "      <td>0</td>\n",
              "    </tr>\n",
              "    <tr>\n",
              "      <th>3</th>\n",
              "      <td>flickr.com</td>\n",
              "      <td>0</td>\n",
              "      <td>0</td>\n",
              "      <td>0</td>\n",
              "      <td>0</td>\n",
              "      <td>0</td>\n",
              "      <td>3</td>\n",
              "      <td>0</td>\n",
              "      <td>0</td>\n",
              "      <td>10</td>\n",
              "      <td>0</td>\n",
              "      <td>0</td>\n",
              "    </tr>\n",
              "    <tr>\n",
              "      <th>4</th>\n",
              "      <td>olx.co.id</td>\n",
              "      <td>0</td>\n",
              "      <td>0</td>\n",
              "      <td>0</td>\n",
              "      <td>0</td>\n",
              "      <td>0</td>\n",
              "      <td>2</td>\n",
              "      <td>0</td>\n",
              "      <td>1</td>\n",
              "      <td>5</td>\n",
              "      <td>0</td>\n",
              "      <td>0</td>\n",
              "    </tr>\n",
              "  </tbody>\n",
              "</table>\n",
              "</div>\n",
              "      <button class=\"colab-df-convert\" onclick=\"convertToInteractive('df-d526351a-19bd-468d-97f5-73718048aa14')\"\n",
              "              title=\"Convert this dataframe to an interactive table.\"\n",
              "              style=\"display:none;\">\n",
              "        \n",
              "  <svg xmlns=\"http://www.w3.org/2000/svg\" height=\"24px\"viewBox=\"0 0 24 24\"\n",
              "       width=\"24px\">\n",
              "    <path d=\"M0 0h24v24H0V0z\" fill=\"none\"/>\n",
              "    <path d=\"M18.56 5.44l.94 2.06.94-2.06 2.06-.94-2.06-.94-.94-2.06-.94 2.06-2.06.94zm-11 1L8.5 8.5l.94-2.06 2.06-.94-2.06-.94L8.5 2.5l-.94 2.06-2.06.94zm10 10l.94 2.06.94-2.06 2.06-.94-2.06-.94-.94-2.06-.94 2.06-2.06.94z\"/><path d=\"M17.41 7.96l-1.37-1.37c-.4-.4-.92-.59-1.43-.59-.52 0-1.04.2-1.43.59L10.3 9.45l-7.72 7.72c-.78.78-.78 2.05 0 2.83L4 21.41c.39.39.9.59 1.41.59.51 0 1.02-.2 1.41-.59l7.78-7.78 2.81-2.81c.8-.78.8-2.07 0-2.86zM5.41 20L4 18.59l7.72-7.72 1.47 1.35L5.41 20z\"/>\n",
              "  </svg>\n",
              "      </button>\n",
              "      \n",
              "  <style>\n",
              "    .colab-df-container {\n",
              "      display:flex;\n",
              "      flex-wrap:wrap;\n",
              "      gap: 12px;\n",
              "    }\n",
              "\n",
              "    .colab-df-convert {\n",
              "      background-color: #E8F0FE;\n",
              "      border: none;\n",
              "      border-radius: 50%;\n",
              "      cursor: pointer;\n",
              "      display: none;\n",
              "      fill: #1967D2;\n",
              "      height: 32px;\n",
              "      padding: 0 0 0 0;\n",
              "      width: 32px;\n",
              "    }\n",
              "\n",
              "    .colab-df-convert:hover {\n",
              "      background-color: #E2EBFA;\n",
              "      box-shadow: 0px 1px 2px rgba(60, 64, 67, 0.3), 0px 1px 3px 1px rgba(60, 64, 67, 0.15);\n",
              "      fill: #174EA6;\n",
              "    }\n",
              "\n",
              "    [theme=dark] .colab-df-convert {\n",
              "      background-color: #3B4455;\n",
              "      fill: #D2E3FC;\n",
              "    }\n",
              "\n",
              "    [theme=dark] .colab-df-convert:hover {\n",
              "      background-color: #434B5C;\n",
              "      box-shadow: 0px 1px 3px 1px rgba(0, 0, 0, 0.15);\n",
              "      filter: drop-shadow(0px 1px 2px rgba(0, 0, 0, 0.3));\n",
              "      fill: #FFFFFF;\n",
              "    }\n",
              "  </style>\n",
              "\n",
              "      <script>\n",
              "        const buttonEl =\n",
              "          document.querySelector('#df-d526351a-19bd-468d-97f5-73718048aa14 button.colab-df-convert');\n",
              "        buttonEl.style.display =\n",
              "          google.colab.kernel.accessAllowed ? 'block' : 'none';\n",
              "\n",
              "        async function convertToInteractive(key) {\n",
              "          const element = document.querySelector('#df-d526351a-19bd-468d-97f5-73718048aa14');\n",
              "          const dataTable =\n",
              "            await google.colab.kernel.invokeFunction('convertToInteractive',\n",
              "                                                     [key], {});\n",
              "          if (!dataTable) return;\n",
              "\n",
              "          const docLinkHtml = 'Like what you see? Visit the ' +\n",
              "            '<a target=\"_blank\" href=https://colab.research.google.com/notebooks/data_table.ipynb>data table notebook</a>'\n",
              "            + ' to learn more about interactive tables.';\n",
              "          element.innerHTML = '';\n",
              "          dataTable['output_type'] = 'display_data';\n",
              "          await google.colab.output.renderOutput(dataTable, element);\n",
              "          const docLink = document.createElement('div');\n",
              "          docLink.innerHTML = docLinkHtml;\n",
              "          element.appendChild(docLink);\n",
              "        }\n",
              "      </script>\n",
              "    </div>\n",
              "  </div>\n",
              "  "
            ],
            "text/plain": [
              "                    Domain  Web_Traffic  Have_At  SubDomain  Prefix/Suffix  \\\n",
              "0  en.turkeyforfriends.com            0        0          0              0   \n",
              "1      blogs.indiewire.com            0        0          0              0   \n",
              "2    absoluteastronomy.com            0        0          0              0   \n",
              "3               flickr.com            0        0          0              0   \n",
              "4                olx.co.id            0        0          0              0   \n",
              "\n",
              "   Have_IP  URL_Depth  Redirection  TinyURL  Digit_count  Domain_Age  Label  \n",
              "0        0          2            0        0            6           0      0  \n",
              "1        0          3            0        0            0           0      0  \n",
              "2        0          2            0        0            0           0      0  \n",
              "3        0          3            0        0           10           0      0  \n",
              "4        0          2            0        1            5           0      0  "
            ]
          },
          "execution_count": 19,
          "metadata": {},
          "output_type": "execute_result"
        }
      ],
      "source": [
        "#converting the list to dataframe\n",
        "feature_names = ['Domain', 'Web_Traffic', 'Have_At', 'SubDomain','Prefix/Suffix', 'Have_IP', 'URL_Depth', 'Redirection',\n",
        "                 'TinyURL', 'Digit_count','Domain_Age', 'Label']\n",
        "\n",
        "legitimate = pd.DataFrame(legi_features, columns=feature_names)\n",
        "legitimate.head()"
      ]
    },
    {
      "cell_type": "code",
      "execution_count": 20,
      "metadata": {
        "id": "hs6Ix2uuQ_k-"
      },
      "outputs": [],
      "source": [
        "legitimate.to_csv('legitimate_extracted.csv', index=False)"
      ]
    },
    {
      "cell_type": "markdown",
      "metadata": {
        "id": "aBfBaahxQ_k_"
      },
      "source": []
    }
  ],
  "metadata": {
    "colab": {
      "provenance": []
    },
    "kernelspec": {
      "display_name": "Python 3",
      "language": "python",
      "name": "python3"
    },
    "language_info": {
      "codemirror_mode": {
        "name": "ipython",
        "version": 3
      },
      "file_extension": ".py",
      "mimetype": "text/x-python",
      "name": "python",
      "nbconvert_exporter": "python",
      "pygments_lexer": "ipython3",
      "version": "3.6.5"
    },
    "vscode": {
      "interpreter": {
        "hash": "e31a5c1faf1aa9858e85a01d2ee7517f3fac31f15d0ccfa3d1bcee2c681286a6"
      }
    }
  },
  "nbformat": 4,
  "nbformat_minor": 0
}
