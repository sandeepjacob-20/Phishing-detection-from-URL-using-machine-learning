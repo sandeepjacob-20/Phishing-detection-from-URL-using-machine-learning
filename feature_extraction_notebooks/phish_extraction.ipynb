{
  "cells": [
    {
      "attachments": {},
      "cell_type": "markdown",
      "metadata": {},
      "source": [
        "This notebook extracts the features of the phishing URLs in the phishing.csv file. The extracted features are then stored in the phishing_extracted.csv file. "
      ]
    },
    {
      "cell_type": "code",
      "execution_count": 2,
      "metadata": {
        "id": "UX1AftX3RXRB"
      },
      "outputs": [],
      "source": [
        "import pandas as pd"
      ]
    },
    {
      "cell_type": "code",
      "execution_count": 3,
      "metadata": {
        "id": "axDgptoARXRG"
      },
      "outputs": [],
      "source": [
        "# importing required packages for this section\n",
        "from urllib.parse import urlparse, urlencode\n",
        "import ipaddress\n",
        "import re\n",
        "import requests"
      ]
    },
    {
      "cell_type": "code",
      "execution_count": 4,
      "metadata": {
        "colab": {
          "base_uri": "https://localhost:8080/"
        },
        "id": "z-SAkWaBRXRH",
        "outputId": "6b1d2ec5-beeb-46b9-a7d8-623f2046c2a9"
      },
      "outputs": [
        {
          "name": "stdout",
          "output_type": "stream",
          "text": [
            "Collecting python-whois\n",
            "  Using cached python_whois-0.8.0-py3-none-any.whl\n",
            "Requirement already satisfied: future in d:\\anaconda\\lib\\site-packages (from python-whois) (0.18.2)\n",
            "Installing collected packages: python-whois\n",
            "Successfully installed python-whois-0.8.0\n",
            "Note: you may need to restart the kernel to use updated packages.\n"
          ]
        }
      ],
      "source": [
        "%pip install python-whois\n"
      ]
    },
    {
      "cell_type": "code",
      "execution_count": 5,
      "metadata": {
        "id": "qv5v69MERXRI"
      },
      "outputs": [],
      "source": [
        "import re\n",
        "from bs4 import BeautifulSoup\n",
        "import whois\n",
        "import urllib\n",
        "import urllib.request\n",
        "from datetime import datetime"
      ]
    },
    {
      "cell_type": "code",
      "execution_count": null,
      "metadata": {
        "id": "WP-nCm3nTEyM"
      },
      "outputs": [],
      "source": [
        "def getDomain(url):\n",
        "  domain = urlparse(url).netloc\n",
        "  if re.match(r\"^www.\", domain):\n",
        "      domain = domain.replace(\"www.\", \"\")\n",
        "  return domain"
      ]
    },
    {
      "cell_type": "markdown",
      "metadata": {
        "id": "59BpDlTqRXRJ"
      },
      "source": [
        "1.Presence of Special Symbols"
      ]
    },
    {
      "cell_type": "code",
      "execution_count": null,
      "metadata": {
        "id": "b8Z02qdPRXRL"
      },
      "outputs": [],
      "source": [
        "def special_symbols(url):\n",
        "    if '@' in url:\n",
        "        return 1\n",
        "    else:\n",
        "        return 0"
      ]
    },
    {
      "cell_type": "markdown",
      "metadata": {
        "id": "ByWPIwR3RXRM"
      },
      "source": [
        "2.Presence of sub-domains"
      ]
    },
    {
      "cell_type": "code",
      "execution_count": null,
      "metadata": {
        "id": "623Ft-nnRXRN"
      },
      "outputs": [],
      "source": [
        "def check_subdomain(url):\n",
        "    count = 0\n",
        "    for i in url:\n",
        "        if i == '.':\n",
        "            count+=1\n",
        "    if count<=3:\n",
        "        return 0\n",
        "    else:\n",
        "        return 1\n"
      ]
    },
    {
      "cell_type": "markdown",
      "metadata": {
        "id": "gPekdp23RXRQ"
      },
      "source": [
        "3.looking for '-' in domain"
      ]
    },
    {
      "cell_type": "code",
      "execution_count": null,
      "metadata": {
        "id": "XgmImgRoRXRQ"
      },
      "outputs": [],
      "source": [
        "def prefixSuffix(url):\n",
        "    domain = urlparse(url).netloc\n",
        "    if '-' in domain or '_' in domain:\n",
        "        return 1            # phishing\n",
        "    else:\n",
        "        return 0\n"
      ]
    },
    {
      "cell_type": "markdown",
      "metadata": {
        "id": "EdOrt2PyRXRR"
      },
      "source": [
        "4.Using IP instead of URL"
      ]
    },
    {
      "cell_type": "code",
      "execution_count": null,
      "metadata": {
        "id": "JX0lCYXlRXRR"
      },
      "outputs": [],
      "source": [
        "def havingIP(url):\n",
        "    try:\n",
        "        ipaddress.ip_address(url)\n",
        "        ip = 1\n",
        "    except:\n",
        "        ip=0\n",
        "    return ip"
      ]
    },
    {
      "cell_type": "markdown",
      "metadata": {
        "id": "Y-ZKFYOpRXRS"
      },
      "source": [
        "5.Depth of URL"
      ]
    },
    {
      "cell_type": "code",
      "execution_count": null,
      "metadata": {
        "id": "-lXSvfG0RXRS"
      },
      "outputs": [],
      "source": [
        "def getDepth(url):\n",
        "  s = urlparse(url).path.split('/')\n",
        "  depth = 0\n",
        "  for j in range(len(s)):\n",
        "    if len(s[j]) != 0:\n",
        "      depth = depth+1\n",
        "  return depth\n"
      ]
    },
    {
      "cell_type": "markdown",
      "metadata": {
        "id": "qndb6x3TRXRS"
      },
      "source": [
        "6.Redirections in URL"
      ]
    },
    {
      "cell_type": "code",
      "execution_count": null,
      "metadata": {
        "id": "7szCwroVRXRT"
      },
      "outputs": [],
      "source": [
        "def redirect(url):\n",
        "    pos = url.rfind(\"//\")\n",
        "    if pos>7:\n",
        "        return 1\n",
        "    else:\n",
        "        return 0\n"
      ]
    },
    {
      "cell_type": "markdown",
      "metadata": {
        "id": "iygjd-fRRXRT"
      },
      "source": [
        "7.URL shortening services"
      ]
    },
    {
      "cell_type": "code",
      "execution_count": null,
      "metadata": {
        "id": "Z2R07ZVMRXRU"
      },
      "outputs": [],
      "source": [
        "#listing shortening services\n",
        "shortening_services = r\"bit\\.ly|goo\\.gl|shorte\\.st|go2l\\.ink|x\\.co|ow\\.ly|t\\.co|tinyurl|tr\\.im|is\\.gd|cli\\.gs|\" \\\n",
        "                      r\"yfrog\\.com|migre\\.me|ff\\.im|tiny\\.cc|url4\\.eu|twit\\.ac|su\\.pr|twurl\\.nl|snipurl\\.com|\" \\\n",
        "                      r\"short\\.to|BudURL\\.com|ping\\.fm|post\\.ly|Just\\.as|bkite\\.com|snipr\\.com|fic\\.kr|loopt\\.us|\" \\\n",
        "                      r\"doiop\\.com|short\\.ie|kl\\.am|wp\\.me|rubyurl\\.com|om\\.ly|to\\.ly|bit\\.do|t\\.co|lnkd\\.in|db\\.tt|\" \\\n",
        "                      r\"qr\\.ae|adf\\.ly|goo\\.gl|bitly\\.com|cur\\.lv|tinyurl\\.com|ow\\.ly|bit\\.ly|ity\\.im|q\\.gs|is\\.gd|\" \\\n",
        "                      r\"po\\.st|bc\\.vc|twitthis\\.com|u\\.to|j\\.mp|buzurl\\.com|cutt\\.us|u\\.bb|yourls\\.org|x\\.co|\" \\\n",
        "                      r\"prettylinkpro\\.com|scrnch\\.me|filoops\\.info|vzturl\\.com|qr\\.net|1url\\.com|tweez\\.me|v\\.gd|\" \\\n",
        "                      r\"tr\\.im|link\\.zip\\.net\"\n"
      ]
    },
    {
      "cell_type": "code",
      "execution_count": null,
      "metadata": {
        "id": "TJpu-ZGKRXRV"
      },
      "outputs": [],
      "source": [
        "def tinyURL(url):\n",
        "    match = re.search(shortening_services, url)\n",
        "    if match:\n",
        "        return 1\n",
        "    else:\n",
        "        return 0"
      ]
    },
    {
      "cell_type": "markdown",
      "metadata": {
        "id": "4hMoBB9_RXRV"
      },
      "source": [
        "8. Number of digits in URL"
      ]
    },
    {
      "cell_type": "code",
      "execution_count": null,
      "metadata": {
        "id": "VTvyhtXpRXRW"
      },
      "outputs": [],
      "source": [
        "def DigitCount(url):\n",
        "  count=0\n",
        "  for i in url:\n",
        "    if i.isdigit():\n",
        "      count+=1\n",
        "  return count"
      ]
    },
    {
      "cell_type": "markdown",
      "metadata": {
        "id": "WLFtvRXJRXRW"
      },
      "source": [
        "9.Web Traffic"
      ]
    },
    {
      "cell_type": "code",
      "execution_count": null,
      "metadata": {
        "id": "IFtMX7sfRXRW"
      },
      "outputs": [],
      "source": [
        "def web_traffic(url_in):\n",
        "  try:\n",
        "    if 'http' not in url_in and 'https' not in url_in:\n",
        "      url_in='http://'+url_in\n",
        "\n",
        "    domain_name = whois.whois(urlparse(url_in).netloc).domain_name\n",
        "    if(type(domain_name) is list ):\n",
        "      domain_name=domain_name[1].lower()\n",
        "    if domain_name.isupper():\n",
        "      domain_name=domain_name.lower()\n",
        "    r = requests.get('https://siterankdata.com/'+domain_name)\n",
        "    soup = BeautifulSoup(r.text,'html.parser')\n",
        "    res = str(soup.find_all('meta')[3])\n",
        "\n",
        "    a = res.split()[7].split('.')[0]\n",
        "    rank=int(a)\n",
        "  except:\n",
        "      return 1\n",
        "  if rank > 1000000:\n",
        "    return 1\n",
        "  else:\n",
        "    return 0\n"
      ]
    },
    {
      "cell_type": "markdown",
      "metadata": {
        "id": "R-SbcqOdRXRX"
      },
      "source": [
        "10.Domain age"
      ]
    },
    {
      "cell_type": "code",
      "execution_count": null,
      "metadata": {
        "id": "6GWUYFjsRXRX"
      },
      "outputs": [],
      "source": [
        "def domainAge(domain_name):\n",
        "  creation_date = domain_name.creation_date\n",
        "  expiration_date = domain_name.expiration_date\n",
        "  if (isinstance(creation_date, str) or isinstance(expiration_date, str)):\n",
        "    try:\n",
        "      creation_date = datetime.strptime(creation_date, \"%Y-%m-%d\")\n",
        "      expiration_date = datetime.strptime(expiration_date, \"%Y-%m-%d\")\n",
        "    except:\n",
        "      return 1\n",
        "  if ((expiration_date is None) or (creation_date is None)):\n",
        "      return 1\n",
        "  elif ((type(expiration_date) is list) or (type(creation_date) is list)):\n",
        "    try:\n",
        "      ageofdomain = abs((expiration_date[0]-creation_date[0]).days)\n",
        "    except:\n",
        "      return 1\n",
        "  else:\n",
        "    ageofdomain = abs((expiration_date - creation_date).days)\n",
        "  if ((ageofdomain/30) < 6):\n",
        "    age = 1\n",
        "  else:\n",
        "    age = 0\n",
        "  return age\n"
      ]
    },
    {
      "cell_type": "markdown",
      "metadata": {
        "id": "VozLDS8qRXRX"
      },
      "source": [
        "Processing the URL's"
      ]
    },
    {
      "cell_type": "code",
      "execution_count": null,
      "metadata": {
        "id": "DIDwMGhpRXRX"
      },
      "outputs": [],
      "source": [
        "#Function to extract features\n",
        "def featureExtraction(url,label):\n",
        "  if 'http' not in url and 'https' not in url:\n",
        "    url='http://'+url\n",
        "  v = web_traffic(url)\n",
        "  dns = 0\n",
        "  try:\n",
        "    domain_name = whois.whois(urlparse(url).netloc)\n",
        "  except:\n",
        "    dns = 1\n",
        "  \n",
        "  features = []\n",
        "  #Address bar based features (11)\n",
        "  features.append(getDomain(url)) \n",
        "  features.append(v)\n",
        "  features.append(special_symbols(url))\n",
        "  features.append(check_subdomain(url))\n",
        "  features.append(prefixSuffix(url))\n",
        "  features.append(havingIP(url))\n",
        "  features.append(getDepth(url))\n",
        "  features.append(redirect(url))\n",
        "  features.append(tinyURL(url))\n",
        "  features.append(DigitCount(url))\n",
        "  features.append(1 if dns == 1 else domainAge(domain_name))\n",
        "  features.append(label)\n",
        "  \n",
        "  return features"
      ]
    },
    {
      "cell_type": "markdown",
      "metadata": {
        "id": "gnrKXvcVRXRY"
      },
      "source": [
        "Phishing URLS"
      ]
    },
    {
      "cell_type": "code",
      "execution_count": null,
      "metadata": {
        "colab": {
          "base_uri": "https://localhost:8080/"
        },
        "id": "I1O1ItSKRXRY",
        "outputId": "e1258d3d-8efe-42d8-8fdb-726f2c5e4599"
      },
      "outputs": [
        {
          "name": "stdout",
          "output_type": "stream",
          "text": [
            "9999\n"
          ]
        }
      ],
      "source": [
        "# Extracting the feautres & storing them in a list\n",
        "phishurl = pd.read_csv('phishing.csv')\n",
        "phish_features = []\n",
        "label = 1\n",
        "for i in range(0, 10000):\n",
        "  url = phishurl['url'][i]\n",
        "  phish_features.append(featureExtraction(url, label))\n",
        "  print(i)\n"
      ]
    },
    {
      "cell_type": "code",
      "execution_count": null,
      "metadata": {
        "colab": {
          "base_uri": "https://localhost:8080/",
          "height": 288
        },
        "id": "6xF4Kdo6RXRY",
        "outputId": "87dc1141-e28f-4ebb-a47a-df0557cf33db"
      },
      "outputs": [
        {
          "data": {
            "text/html": [
              "\n",
              "  <div id=\"df-e6b18ff6-817b-45ed-b530-301c975938ce\">\n",
              "    <div class=\"colab-df-container\">\n",
              "      <div>\n",
              "<style scoped>\n",
              "    .dataframe tbody tr th:only-of-type {\n",
              "        vertical-align: middle;\n",
              "    }\n",
              "\n",
              "    .dataframe tbody tr th {\n",
              "        vertical-align: top;\n",
              "    }\n",
              "\n",
              "    .dataframe thead th {\n",
              "        text-align: right;\n",
              "    }\n",
              "</style>\n",
              "<table border=\"1\" class=\"dataframe\">\n",
              "  <thead>\n",
              "    <tr style=\"text-align: right;\">\n",
              "      <th></th>\n",
              "      <th>Domain</th>\n",
              "      <th>Web_Traffic</th>\n",
              "      <th>Have_At</th>\n",
              "      <th>SubDomain</th>\n",
              "      <th>Prefix/Suffix</th>\n",
              "      <th>Have_IP</th>\n",
              "      <th>URL_Depth</th>\n",
              "      <th>Redirection</th>\n",
              "      <th>TinyURL</th>\n",
              "      <th>Digit_count</th>\n",
              "      <th>Domain_Age</th>\n",
              "      <th>Label</th>\n",
              "    </tr>\n",
              "  </thead>\n",
              "  <tbody>\n",
              "    <tr>\n",
              "      <th>0</th>\n",
              "      <td>rodriguezq.cf</td>\n",
              "      <td>1</td>\n",
              "      <td>0</td>\n",
              "      <td>0</td>\n",
              "      <td>0</td>\n",
              "      <td>0</td>\n",
              "      <td>1</td>\n",
              "      <td>0</td>\n",
              "      <td>0</td>\n",
              "      <td>0</td>\n",
              "      <td>1</td>\n",
              "      <td>1</td>\n",
              "    </tr>\n",
              "    <tr>\n",
              "      <th>1</th>\n",
              "      <td>dev-juyjnuytrhbrg.pantheonsite.io</td>\n",
              "      <td>1</td>\n",
              "      <td>0</td>\n",
              "      <td>0</td>\n",
              "      <td>1</td>\n",
              "      <td>0</td>\n",
              "      <td>0</td>\n",
              "      <td>0</td>\n",
              "      <td>0</td>\n",
              "      <td>0</td>\n",
              "      <td>1</td>\n",
              "      <td>1</td>\n",
              "    </tr>\n",
              "    <tr>\n",
              "      <th>2</th>\n",
              "      <td>dev-juyjnuytrhbrg.pantheonsite.io</td>\n",
              "      <td>1</td>\n",
              "      <td>0</td>\n",
              "      <td>0</td>\n",
              "      <td>1</td>\n",
              "      <td>0</td>\n",
              "      <td>0</td>\n",
              "      <td>0</td>\n",
              "      <td>0</td>\n",
              "      <td>0</td>\n",
              "      <td>1</td>\n",
              "      <td>1</td>\n",
              "    </tr>\n",
              "    <tr>\n",
              "      <th>3</th>\n",
              "      <td>reactivaciononlineysegura.seguridadonlin.repl.co</td>\n",
              "      <td>1</td>\n",
              "      <td>0</td>\n",
              "      <td>0</td>\n",
              "      <td>0</td>\n",
              "      <td>0</td>\n",
              "      <td>0</td>\n",
              "      <td>0</td>\n",
              "      <td>0</td>\n",
              "      <td>0</td>\n",
              "      <td>1</td>\n",
              "      <td>1</td>\n",
              "    </tr>\n",
              "    <tr>\n",
              "      <th>4</th>\n",
              "      <td>reactivaciononlineysegura--seguridadonlin.repl.co</td>\n",
              "      <td>1</td>\n",
              "      <td>0</td>\n",
              "      <td>0</td>\n",
              "      <td>1</td>\n",
              "      <td>0</td>\n",
              "      <td>0</td>\n",
              "      <td>0</td>\n",
              "      <td>0</td>\n",
              "      <td>0</td>\n",
              "      <td>1</td>\n",
              "      <td>1</td>\n",
              "    </tr>\n",
              "  </tbody>\n",
              "</table>\n",
              "</div>\n",
              "      <button class=\"colab-df-convert\" onclick=\"convertToInteractive('df-e6b18ff6-817b-45ed-b530-301c975938ce')\"\n",
              "              title=\"Convert this dataframe to an interactive table.\"\n",
              "              style=\"display:none;\">\n",
              "        \n",
              "  <svg xmlns=\"http://www.w3.org/2000/svg\" height=\"24px\"viewBox=\"0 0 24 24\"\n",
              "       width=\"24px\">\n",
              "    <path d=\"M0 0h24v24H0V0z\" fill=\"none\"/>\n",
              "    <path d=\"M18.56 5.44l.94 2.06.94-2.06 2.06-.94-2.06-.94-.94-2.06-.94 2.06-2.06.94zm-11 1L8.5 8.5l.94-2.06 2.06-.94-2.06-.94L8.5 2.5l-.94 2.06-2.06.94zm10 10l.94 2.06.94-2.06 2.06-.94-2.06-.94-.94-2.06-.94 2.06-2.06.94z\"/><path d=\"M17.41 7.96l-1.37-1.37c-.4-.4-.92-.59-1.43-.59-.52 0-1.04.2-1.43.59L10.3 9.45l-7.72 7.72c-.78.78-.78 2.05 0 2.83L4 21.41c.39.39.9.59 1.41.59.51 0 1.02-.2 1.41-.59l7.78-7.78 2.81-2.81c.8-.78.8-2.07 0-2.86zM5.41 20L4 18.59l7.72-7.72 1.47 1.35L5.41 20z\"/>\n",
              "  </svg>\n",
              "      </button>\n",
              "      \n",
              "  <style>\n",
              "    .colab-df-container {\n",
              "      display:flex;\n",
              "      flex-wrap:wrap;\n",
              "      gap: 12px;\n",
              "    }\n",
              "\n",
              "    .colab-df-convert {\n",
              "      background-color: #E8F0FE;\n",
              "      border: none;\n",
              "      border-radius: 50%;\n",
              "      cursor: pointer;\n",
              "      display: none;\n",
              "      fill: #1967D2;\n",
              "      height: 32px;\n",
              "      padding: 0 0 0 0;\n",
              "      width: 32px;\n",
              "    }\n",
              "\n",
              "    .colab-df-convert:hover {\n",
              "      background-color: #E2EBFA;\n",
              "      box-shadow: 0px 1px 2px rgba(60, 64, 67, 0.3), 0px 1px 3px 1px rgba(60, 64, 67, 0.15);\n",
              "      fill: #174EA6;\n",
              "    }\n",
              "\n",
              "    [theme=dark] .colab-df-convert {\n",
              "      background-color: #3B4455;\n",
              "      fill: #D2E3FC;\n",
              "    }\n",
              "\n",
              "    [theme=dark] .colab-df-convert:hover {\n",
              "      background-color: #434B5C;\n",
              "      box-shadow: 0px 1px 3px 1px rgba(0, 0, 0, 0.15);\n",
              "      filter: drop-shadow(0px 1px 2px rgba(0, 0, 0, 0.3));\n",
              "      fill: #FFFFFF;\n",
              "    }\n",
              "  </style>\n",
              "\n",
              "      <script>\n",
              "        const buttonEl =\n",
              "          document.querySelector('#df-e6b18ff6-817b-45ed-b530-301c975938ce button.colab-df-convert');\n",
              "        buttonEl.style.display =\n",
              "          google.colab.kernel.accessAllowed ? 'block' : 'none';\n",
              "\n",
              "        async function convertToInteractive(key) {\n",
              "          const element = document.querySelector('#df-e6b18ff6-817b-45ed-b530-301c975938ce');\n",
              "          const dataTable =\n",
              "            await google.colab.kernel.invokeFunction('convertToInteractive',\n",
              "                                                     [key], {});\n",
              "          if (!dataTable) return;\n",
              "\n",
              "          const docLinkHtml = 'Like what you see? Visit the ' +\n",
              "            '<a target=\"_blank\" href=https://colab.research.google.com/notebooks/data_table.ipynb>data table notebook</a>'\n",
              "            + ' to learn more about interactive tables.';\n",
              "          element.innerHTML = '';\n",
              "          dataTable['output_type'] = 'display_data';\n",
              "          await google.colab.output.renderOutput(dataTable, element);\n",
              "          const docLink = document.createElement('div');\n",
              "          docLink.innerHTML = docLinkHtml;\n",
              "          element.appendChild(docLink);\n",
              "        }\n",
              "      </script>\n",
              "    </div>\n",
              "  </div>\n",
              "  "
            ],
            "text/plain": [
              "                                              Domain  Web_Traffic  Have_At  \\\n",
              "0                                      rodriguezq.cf            1        0   \n",
              "1                  dev-juyjnuytrhbrg.pantheonsite.io            1        0   \n",
              "2                  dev-juyjnuytrhbrg.pantheonsite.io            1        0   \n",
              "3   reactivaciononlineysegura.seguridadonlin.repl.co            1        0   \n",
              "4  reactivaciononlineysegura--seguridadonlin.repl.co            1        0   \n",
              "\n",
              "   SubDomain  Prefix/Suffix  Have_IP  URL_Depth  Redirection  TinyURL  \\\n",
              "0          0              0        0          1            0        0   \n",
              "1          0              1        0          0            0        0   \n",
              "2          0              1        0          0            0        0   \n",
              "3          0              0        0          0            0        0   \n",
              "4          0              1        0          0            0        0   \n",
              "\n",
              "   Digit_count  Domain_Age  Label  \n",
              "0            0           1      1  \n",
              "1            0           1      1  \n",
              "2            0           1      1  \n",
              "3            0           1      1  \n",
              "4            0           1      1  "
            ]
          },
          "execution_count": 19,
          "metadata": {},
          "output_type": "execute_result"
        }
      ],
      "source": [
        "#converting the list to dataframe\n",
        "feature_names = ['Domain', 'Web_Traffic', 'Have_At', 'SubDomain','Prefix/Suffix', 'Have_IP', 'URL_Depth', 'Redirection',\n",
        "                 'TinyURL', 'Digit_count','Domain_Age', 'Label']\n",
        "\n",
        "phishing = pd.DataFrame(phish_features, columns=feature_names)\n",
        "phishing.head()"
      ]
    },
    {
      "cell_type": "code",
      "execution_count": null,
      "metadata": {
        "id": "LW6027zmRXRY"
      },
      "outputs": [],
      "source": [
        "phishing.to_csv('phishing_extracted.csv', index=False)"
      ]
    }
  ],
  "metadata": {
    "colab": {
      "provenance": []
    },
    "kernelspec": {
      "display_name": "base",
      "language": "python",
      "name": "python3"
    },
    "language_info": {
      "codemirror_mode": {
        "name": "ipython",
        "version": 3
      },
      "file_extension": ".py",
      "mimetype": "text/x-python",
      "name": "python",
      "nbconvert_exporter": "python",
      "pygments_lexer": "ipython3",
      "version": "3.9.12"
    },
    "orig_nbformat": 4,
    "vscode": {
      "interpreter": {
        "hash": "88279d2366fe020547cde40dd65aa0e3aa662a6ec1f3ca12d88834876c85e1a6"
      }
    }
  },
  "nbformat": 4,
  "nbformat_minor": 0
}
